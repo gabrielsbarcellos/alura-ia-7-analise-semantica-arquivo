{
  "nbformat": 4,
  "nbformat_minor": 0,
  "metadata": {
    "colab": {
      "provenance": [],
      "authorship_tag": "ABX9TyMpWx1y3KCZvp+U08Lu6zcg",
      "include_colab_link": true
    },
    "kernelspec": {
      "name": "python3",
      "display_name": "Python 3"
    },
    "language_info": {
      "name": "python"
    }
  },
  "cells": [
    {
      "cell_type": "markdown",
      "metadata": {
        "id": "view-in-github",
        "colab_type": "text"
      },
      "source": [
        "<a href=\"https://colab.research.google.com/github/gabrielsbarcellos/alura-ia-7-analise-semantica-arquivo/blob/main/alura-ia-7-analise-semantica-arquivo.ipynb\" target=\"_parent\"><img src=\"https://colab.research.google.com/assets/colab-badge.svg\" alt=\"Open In Colab\"/></a>"
      ]
    },
    {
      "cell_type": "code",
      "execution_count": null,
      "metadata": {
        "id": "mXd6z5lbl6eD"
      },
      "outputs": [],
      "source": [
        "# fazer uma busca de informaçao dentro de uma base de conhecimento\n",
        "# segura ou controlada.\n",
        "\n",
        "# Envia os arquivos para o sistema analisar e gerar o embedding. Isto\n",
        "# vai criar um conjunto de tokens sobre o texto e terá uma pontuação\n",
        "# geral sobre os dados. Desta forma a IA treina/aprende sobre os dados\n",
        "# e depois você sobe as perguntas sobre os dados pré-treinados. A IA\n",
        "# vai tokeinizar também a pergunta e desta forma será capaz de evoluir\n",
        "# na resposta com base em problemas matemáticos.\n",
        "\n",
        "\n",
        "!pip install -q -U google-generativeai"
      ]
    },
    {
      "cell_type": "code",
      "source": [
        "import numpy as np\n",
        "import pandas as pd\n",
        "import google.generativeai as gemini\n",
        "\n",
        "\n",
        "TERMINAR\n"
      ],
      "metadata": {
        "id": "GWZFEMM7nyiq"
      },
      "execution_count": null,
      "outputs": []
    }
  ]
}